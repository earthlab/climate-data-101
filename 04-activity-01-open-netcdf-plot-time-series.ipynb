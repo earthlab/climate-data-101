{
 "cells": [
  {
   "cell_type": "markdown",
   "metadata": {},
   "source": [
    "<img style=\"float: left;\" src=\"earth-lab-logo-rgb.png\" width=\"150\" height=\"150\" />\n",
    "\n",
    "# Earth Analytics Education - Climate 101 Workshop"
   ]
  },
  {
   "cell_type": "markdown",
   "metadata": {},
   "source": [
    "## Interactive Data Activity\n",
    "\n",
    "This notebook is an interactive activity to demonstrate the capabilities of using **Python** to work with climate data! We will be using packages such as **xarray** to open and manipulate climate data into a meaningful graph. "
   ]
  },
  {
   "cell_type": "code",
   "execution_count": null,
   "metadata": {},
   "outputs": [],
   "source": [
    "# Import packages\n",
    "import numpy as np\n",
    "import matplotlib.pyplot as plt\n",
    "import xarray as xr\n",
    "import cartopy.crs as ccrs\n",
    "import cartopy.feature as cfeature\n",
    "import seaborn as sns\n",
    "\n",
    "# Plotting options\n",
    "sns.set(font_scale=1.3)\n",
    "sns.set_style(\"white\")"
   ]
  },
  {
   "cell_type": "markdown",
   "metadata": {},
   "source": [
    "## Challenge 1 - Select Your Data\n",
    "\n",
    "The data we are using is described as a \"Monthly aggregation of downscaled daily meteorological data of Monthly Precipitation Amount from College of Global Change and Earth System Science, Beijing Normal University\". In short, the data is monthly summary of lots of meteorological data, such as precipitation, air temperature, and more. The data also includes a climate model of what is likely to come for these variables. \n",
    "\n",
    "Below, you will assign three variables to choose which data you want to work with in this notebook. \n",
    "\n",
    "`model = ` can be set to any number between 0 and 19. You can see the list of models you are choosing from in the cell two below this one. The models are listed after `model_name = ` All of the models are different models for how the climate will change going into the future. There are 20 options for models, and to pick one you can assign `model = ` to any number between 0 and 19, where 0 is the first option in the list, and 19 is the last. \n",
    "\n",
    "`var = ` is the variable in the dataset you want to be analyzed. You can see the variables in the cell two below this one. The variables are listed after `var_long_name = `. The variables are as described by the variable name, so `air_temperature` is the aggregate air temperature for each month, for example. There are 9 options for variables, and to pick one you can assign `var = ` to any number between 0 and 8, where 0 is the first option in the list, and 8 is the last. \n",
    "\n",
    "Lastly, `scenario = ` can be chosen to pick which climate scenario you want to pull your data from. `0` is the historical data and doesn't include any modeling. `1` is the `rcp45` scenario, which is described as an intermediate climate scenario. `2` is the `rcp85` scenario, which is a worst case climate scenario. "
   ]
  },
  {
   "cell_type": "code",
   "execution_count": null,
   "metadata": {},
   "outputs": [],
   "source": [
    "# Model options between 0-19\n",
    "model = 2\n",
    "# Options 0-8 will work for var. Var maps to the variable name below\n",
    "var = 4\n",
    "# Options range from 0-2\n",
    "scenario = 1"
   ]
  },
  {
   "cell_type": "code",
   "execution_count": null,
   "metadata": {},
   "outputs": [],
   "source": [
    "dir_path = 'http://thredds.northwestknowledge.net:8080/thredds/dodsC/'\n",
    "\n",
    "# These are the variable options for the met data\n",
    "variable_name = ('tasmax',\n",
    "                 'tasmin',\n",
    "                 'rhsmax',\n",
    "                 'rhsmin',\n",
    "                 'pr',\n",
    "                 'rsds',\n",
    "                 'uas',\n",
    "                 'vas',\n",
    "                 'huss')\n",
    "\n",
    "# These are var options in long form\n",
    "var_long_name = ('air_temperature',\n",
    "                 'air_temperature',\n",
    "                 'relative_humidity',\n",
    "                 'relative_humidity',\n",
    "                 'precipitation',\n",
    "                 'surface_downwelling_shortwave_flux_in_air',\n",
    "                 'eastward_wind',\n",
    "                 'northward_wind',\n",
    "                 'specific_humidity')\n",
    "\n",
    "# Models to chose from\n",
    "model_name = ('bcc-csm1-1',\n",
    "              'bcc-csm1-1-m',\n",
    "              'BNU-ESM',\n",
    "              'CanESM2',\n",
    "              'CCSM4',\n",
    "              'CNRM-CM5',\n",
    "              'CSIRO-Mk3-6-0',\n",
    "              'GFDL-ESM2G',\n",
    "              'GFDL-ESM2M',\n",
    "              'HadGEM2-CC365',\n",
    "              'HadGEM2-ES365',\n",
    "              'inmcm4',\n",
    "              'IPSL-CM5A-MR',\n",
    "              'IPSL-CM5A-LR',\n",
    "              'IPSL-CM5B-LR',\n",
    "              'MIROC5',\n",
    "              'MIROC-ESM',\n",
    "              'MIROC-ESM-CHEM',\n",
    "              'MRI-CGCM3',\n",
    "              'NorESM1-M')\n",
    "\n",
    "# Scenarios\n",
    "scenario_type = ('historical', 'rcp45', 'rcp85')\n",
    "\n",
    "# Year start and ends (historical vs projected)\n",
    "year_start = ('1950', '2006', '2006')\n",
    "year_end = ('2005', '2099', '2099')\n",
    "run_num = [1] * 20\n",
    "run_num[4] = 6  # setting CCSM4 with run 6\n",
    "domain = 'CONUS'"
   ]
  },
  {
   "cell_type": "code",
   "execution_count": null,
   "metadata": {},
   "outputs": [],
   "source": [
    "time = year_start[scenario]+'_' + year_end[scenario]\n",
    "print(\"\\u2705 Your selected time period is:\", time)"
   ]
  },
  {
   "cell_type": "code",
   "execution_count": null,
   "metadata": {},
   "outputs": [],
   "source": [
    "# This is only going to provide monthly data\n",
    "file_name = ('agg_macav2metdata_' +\n",
    "             str(variable_name[var]) +\n",
    "             '_' +\n",
    "             str(model_name[model]) +\n",
    "             '_r' +\n",
    "             str(run_num[model])+'i1p1_' +\n",
    "             str(scenario_type[scenario]) +\n",
    "             '_' +\n",
    "             time + '_' +\n",
    "             domain + '_monthly.nc')\n",
    "\n",
    "print(\"\\u2705 You are accessing:\\n\", file_name, \"\\n data in netcdf format\")"
   ]
  },
  {
   "cell_type": "code",
   "execution_count": null,
   "metadata": {},
   "outputs": [],
   "source": [
    "full_file_path = dir_path + file_name\n",
    "full_file_path"
   ]
  },
  {
   "cell_type": "markdown",
   "metadata": {},
   "source": [
    "## Challenge 2 - Run the Cell Below to Open Your Data\n",
    "\n",
    "Run the cell below to open your dataset.\n"
   ]
  },
  {
   "cell_type": "code",
   "execution_count": null,
   "metadata": {},
   "outputs": [],
   "source": [
    "# Open the data\n",
    "with xr.open_dataset(full_file_path) as file_nc:\n",
    "    max_var_xr = file_nc\n",
    "\n",
    "# View xarray object\n",
    "max_var_xr"
   ]
  },
  {
   "cell_type": "markdown",
   "metadata": {},
   "source": [
    "## Challenge 3 - Subset Your Data\n",
    "\n",
    "Currently, the dataset you have is too big to work with. You can fix this by subsetting the data! There are two ways you can subset the data: spatially, and temporally. \n",
    "\n",
    "To spatially subset the data, you will only look at data from one point in the xarray Dataset. Below, assign a new number for `latitude` and `longitude` to pick a new point. The data's latitude values range from about 25 to 50, and the data's longitude values range from 235 to 292. So try and pick new values within those ranges.\n",
    "\n",
    "To temporally subset the data, you can pick a start date and end date to trim the data to. Below, assign new values for the data to start and end at. Make sure the values you assign stay in the quotes provided. The format should be `'yyyy-mm'`. Keep in mind that depending on which scenario you chose above, the years of your data will be different. So pick dates that are within the scenario you chose!\n",
    "\n",
    "|Scenario Number|Date Range|\n",
    "|-------|-----------|\n",
    "|0|1950-2005|\n",
    "|1|2006-2099|\n",
    "|2|2006-2099|"
   ]
  },
  {
   "cell_type": "code",
   "execution_count": null,
   "metadata": {},
   "outputs": [],
   "source": [
    "# Select the latitude, longitude, and timeframe to subset the data to\n",
    "\n",
    "# Ensure your latitude value is between 25 and 50, and your logitude value is between 235 and 292\n",
    "latitude = 35\n",
    "longitude = 270\n",
    "time_start = '2008-01'\n",
    "time_end = '2012-09'"
   ]
  },
  {
   "cell_type": "code",
   "execution_count": null,
   "metadata": {},
   "outputs": [],
   "source": [
    "# Selecting the nearest point to the latitude and longitude that was input\n",
    "max_var_point = max_var_xr[var_long_name[var]].sel(\n",
    "    lat=latitude, lon=longitude, method='pad')\n",
    "\n",
    "# Slicing the data to the timeframe requested\n",
    "max_var_point = max_var_point.sel(time=slice(time_start, time_end))"
   ]
  },
  {
   "cell_type": "markdown",
   "metadata": {},
   "source": [
    "Below is a plot that shows where the latitude and longitude you selected are, and where the data in the rest notebook will be pulled from!"
   ]
  },
  {
   "cell_type": "code",
   "execution_count": null,
   "metadata": {},
   "outputs": [],
   "source": [
    "extent = [-120, -70, 24, 50.5]\n",
    "central_lon = np.mean(extent[:2])\n",
    "central_lat = np.mean(extent[2:])\n",
    "\n",
    "f, ax = plt.subplots(figsize=(12, 6),\n",
    "                     subplot_kw={'projection': ccrs.AlbersEqualArea(central_lon, central_lat)})\n",
    "ax.coastlines()\n",
    "ax.set_extent(extent)\n",
    "# Plotting the star in the CRS of the map from the coords we have\n",
    "ax.annotate('\\u2605', xy=(longitude-360, latitude),\n",
    "            xycoords=ccrs.PlateCarree()._as_mpl_transform(ax), color='purple', fontsize=20)\n",
    "ax.set(title=\"Location of the lat / lon Being Used To to Slice Your netcdf Climate Data File\")\n",
    "\n",
    "# Adds a bunch of elements to the map\n",
    "ax.add_feature(cfeature.LAND, edgecolor='black')\n",
    "\n",
    "ax.gridlines()\n",
    "plt.show()"
   ]
  },
  {
   "cell_type": "markdown",
   "metadata": {},
   "source": [
    "## Challenge 4 - Modify your plot\n",
    "\n",
    "With the newly subset data being more reasonable in size, you can now plot the data! Below is the code you use to plot a line showing the change in the variable you selected at the top over time. \n",
    "\n",
    "There are a few aspects of the plot that you can modify to make the plot even better. First, you can change the title, xlabel, and ylabel by modifying the code seen here: \n",
    "\n",
    "```\n",
    "ax.set(title=\"Modify this text to change the title!\", \n",
    "\n",
    "       xlabel=\"Modify this text to change the x axis label!\",\n",
    "       \n",
    "       ylabel=\"Modify this text to change the y axis label!\")\n",
    "```\n",
    "\n",
    "Make sure when you change the names of those variables, that you keep the new title or axis label within the quotes already there.\n",
    "\n",
    "You can also change the color of the plot by changing these variables colors listed after `color=`, `markerfacecolor=`, and `markeredgecolor=`. Change those to colors you think fit the plot better and see what changes! When you change them to a new color, make sure the new color is still within the quotes provided. "
   ]
  },
  {
   "cell_type": "code",
   "execution_count": null,
   "metadata": {},
   "outputs": [],
   "source": [
    "# Plotting the subset data\n",
    "fig, ax = plt.subplots(figsize=(12, 6))\n",
    "max_var_point.plot.line(ax=ax,\n",
    "                        marker=\"o\",\n",
    "                        # Change the line color\n",
    "                        color=\"orange\",\n",
    "                        # Change both variables below to change the color of the markers\n",
    "                        markerfacecolor=\"black\",\n",
    "                        markeredgecolor=\"black\")\n",
    "\n",
    "# Change the values below to match the data you selected\n",
    "ax.set(title=\"Modify this text to change the title!\",\n",
    "       xlabel=\"Modify this text to change the x axis label!\",\n",
    "       ylabel=\"Modify this text to change the y axis label!\")\n",
    "\n",
    "plt.show()"
   ]
  },
  {
   "cell_type": "markdown",
   "metadata": {},
   "source": [
    "## Challenge 5  - Export your data to a csv file\n",
    "\n",
    "This subset data is worth sharing! Below you will export the data to a `.csv` file. "
   ]
  },
  {
   "cell_type": "code",
   "execution_count": null,
   "metadata": {},
   "outputs": [],
   "source": [
    "# Changing your data to a numpy dataframe to make it exportable\n",
    "max_var_point_df = max_var_point.to_dataframe()\n",
    "max_var_point_df.head()"
   ]
  },
  {
   "cell_type": "code",
   "execution_count": null,
   "metadata": {},
   "outputs": [],
   "source": [
    "# Creating a file name based on the variables you chose earlier!\n",
    "# The name should be the variable you chose, and then the start and end date of the subset\n",
    "file_name = var_long_name[var] + \"-\" + time_start + \"-\" + time_end + \".csv\"\n",
    "file_name"
   ]
  },
  {
   "cell_type": "code",
   "execution_count": null,
   "metadata": {},
   "outputs": [],
   "source": [
    "# Export to a csv file to share with your friends!\n",
    "max_var_point_df.to_csv(file_name)"
   ]
  }
 ],
 "metadata": {
  "kernelspec": {
   "display_name": "Python 3",
   "language": "python",
   "name": "python3"
  },
  "language_info": {
   "codemirror_mode": {
    "name": "ipython",
    "version": 3
   },
   "file_extension": ".py",
   "mimetype": "text/x-python",
   "name": "python",
   "nbconvert_exporter": "python",
   "pygments_lexer": "ipython3",
   "version": "3.7.8"
  },
  "toc": {
   "base_numbering": 1,
   "nav_menu": {},
   "number_sections": true,
   "sideBar": true,
   "skip_h1_title": false,
   "title_cell": "Table of Contents",
   "title_sidebar": "Contents",
   "toc_cell": false,
   "toc_position": {},
   "toc_section_display": true,
   "toc_window_display": true
  }
 },
 "nbformat": 4,
 "nbformat_minor": 4
}
