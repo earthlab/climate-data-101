{
 "cells": [
  {
   "cell_type": "markdown",
   "metadata": {},
   "source": [
    "<img style=\"float: left;\" src=\"earth-lab-logo-rgb.png\" width=\"150\" height=\"150\" />\n",
    "\n",
    "# Earth Analytics Education - Climate 101 Workshop"
   ]
  },
  {
   "cell_type": "markdown",
   "metadata": {},
   "source": [
    "## <i class=\"fa fa-ship\" aria-hidden=\"true\"></i> NETCDF 4 Climate Data in Open Source Python \n",
    "\n",
    "In this lesson, you will learn how to work with Climate Data Sets (MACA v2 for the United states) stored in netcdf 4 format using open source **Python**.\n",
    "\n",
    "\n",
    "## <i class=\"fa fa-graduation-cap\" aria-hidden=\"true\"></i> Learning Objectives\n",
    "\n",
    "After completing this lesson, you will be able to:\n",
    "\n",
    "* Download MACA v2 climate data in `netcdf 4` format\n",
    "* Open and process netcdf4 data using `xarray`\n",
    "* Export climate data in tabular format to `.csv` format\n"
   ]
  },
  {
   "cell_type": "code",
   "execution_count": null,
   "metadata": {
    "tags": [
     "hide"
    ]
   },
   "outputs": [],
   "source": [
    "# Make sure ea dir exists - if not create it\n",
    "import os\n",
    "import earthpy as et\n",
    "ea_path = os.path.join(et.io.HOME, 'earth-analytics', 'data')\n",
    "\n",
    "if not os.path.exists(ea_path):\n",
    "    os.makedirs(ea_path)"
   ]
  },
  {
   "cell_type": "code",
   "execution_count": null,
   "metadata": {},
   "outputs": [],
   "source": [
    "import numpy as np\n",
    "import pandas as pd\n",
    "import matplotlib.pyplot as plt\n",
    "import netCDF4\n",
    "import xarray as xr\n",
    "import rioxarray\n",
    "import cartopy.crs as ccrs\n",
    "import cartopy.feature as cfeature\n",
    "import seaborn as sns\n",
    "import geopandas as gpd\n",
    "import earthpy as et\n",
    "\n",
    "# Plotting options\n",
    "sns.set(font_scale=1.3)\n",
    "sns.set_style(\"white\")\n",
    "\n",
    "# Optional - set your working directory if you wish to use the data\n",
    "# accessed lower down in this notebook (the USA state boundary data)\n",
    "os.chdir(os.path.join(et.io.HOME,\n",
    "                      'earth-analytics',\n",
    "                      'data'))"
   ]
  },
  {
   "cell_type": "markdown",
   "metadata": {},
   "source": [
    "## Get Started wtih MACA Version 2 Data Using Open Source Python\n",
    "\n",
    "In this lesson you will work with historic projected MACA 2 data that represents \n",
    "maximum monthly temperature for the Continental United States (CONUS). \n",
    " \n",
    "`agg_macav2metdata_tasmax_BNU-ESM_r1i1p1_historical_1950_2005_CONUS_monthly`\n",
    "\n",
    "The file name itself tells you a lot about the data. \n",
    "\n",
    "1. **macav2metdata**: the data are the MACA version two data which are downsampled to the extent of the continental United S tates\n",
    "2. **tasmax**: Max temperature is the parameter contained within the data\n",
    "3. **BNU-ESM**: This is the climate (CLM) model used to generate the data\n",
    "4. **historical**: these data are the modeled historical values for the years **1950 - 2005**\n",
    "5. **CONUS**: These data are for the **CON**tinental **U**nited **S**tates boundary\n",
    "6. **monthly**: These data are aggregated monthly (rather than daily)\n",
    "\n",
    "Below, you will learn how to open and work with MACA 2 data using open source Python tools. \n",
    "You will use the **xarray** package which requires the `netcdf4` package to work with netcdf data. \n",
    "The <a href=\"https://github.com/earthlab/earth-analytics-python-env\" target=\"_blank\">most current earth-analytics-python environment </a> contains all of the \n",
    "packages that you need to complete this tutorial.\n",
    "\n",
    "To begin, you open up the data using `xarray.open_dataset`."
   ]
  },
  {
   "cell_type": "code",
   "execution_count": null,
   "metadata": {},
   "outputs": [],
   "source": [
    "# The (online) url for the MACAv2 data\n",
    "data_path = \"http://thredds.northwestknowledge.net:8080/thredds/dodsC/agg_macav2metdata_tasmax_BNU-ESM_r1i1p1_historical_1950_2005_CONUS_monthly.nc\"\n",
    "\n",
    "# Open the data using a context manager\n",
    "with xr.open_dataset(data_path) as file_nc:\n",
    "    max_temp_xr = file_nc\n",
    "\n",
    "# View xarray object\n",
    "max_temp_xr"
   ]
  },
  {
   "cell_type": "markdown",
   "metadata": {},
   "source": [
    "By default `xarray` does not handle spatial operations. However, if you \n",
    "load `rioxarray` it adds additional spatial functionality (supported by \n",
    "`rasterio` that supports handling:\n",
    "\n",
    "* coordinate reference systems\n",
    "* reprojection\n",
    "* clipping \n",
    "\n",
    "and more. Below you grab the `coordinate reference system` of the \n",
    "climate data using the `.rio.crs` method that is available\n",
    "because you have rioxarray loaded in this notebook."
   ]
  },
  {
   "cell_type": "code",
   "execution_count": null,
   "metadata": {},
   "outputs": [],
   "source": [
    "# For later - grab the crs of the data using rioxarray\n",
    "climate_crs = max_temp_xr.rio.crs\n",
    "climate_crs"
   ]
  },
  {
   "cell_type": "markdown",
   "metadata": {},
   "source": [
    "### Work With the NetCDF Data Structure - A Hierarchical Data Format\n",
    "\n",
    "The object above is hierarchical and contains metadata making it self-describing.\n",
    "There are three dimensions to consider when working with this data which represent the \n",
    "x,y and z dimensions of the data:\n",
    "\n",
    "1. latitude\n",
    "2. longitude\n",
    "3. time \n",
    "\n",
    "The latitude and longitude dimension values reprensent an arrya containing the point location\n",
    "value of each pixel in decimal degrees. These are location of each pixel in your data. The \n",
    "time array similarly represents the time location for each array in the data cube. \n",
    "This particular dataset contains historical modeleled monthly max temperature values for the \n",
    "Continental United States. "
   ]
  },
  {
   "cell_type": "code",
   "execution_count": null,
   "metadata": {},
   "outputs": [],
   "source": [
    "# View first 5 latitude values\n",
    "max_temp_xr[\"air_temperature\"][\"lat\"].values[:5]"
   ]
  },
  {
   "cell_type": "code",
   "execution_count": null,
   "metadata": {},
   "outputs": [],
   "source": [
    "# View first 5 longitude values\n",
    "max_temp_xr[\"air_temperature\"][\"lon\"].values[:5]"
   ]
  },
  {
   "cell_type": "code",
   "execution_count": null,
   "metadata": {},
   "outputs": [],
   "source": [
    "# View first 5 and last. 5 time values - notice the span of\n",
    "# dates range from 1950 to 2005\n",
    "max_temp_xr[\"air_temperature\"][\"time\"].values[:\n",
    "                                              5], max_temp_xr[\"air_temperature\"][\"time\"].values[-5:]"
   ]
  },
  {
   "cell_type": "code",
   "execution_count": null,
   "metadata": {},
   "outputs": [],
   "source": [
    "max_temp_xr[\"air_temperature\"][\"time\"].values.shape"
   ]
  },
  {
   "cell_type": "markdown",
   "metadata": {},
   "source": [
    "Time is the z dimension. In this dataset you have \n",
    "672 months worth of data.\n",
    "\n",
    "These data are spatial and thus have a coordinate reference system\n",
    "associated with them. You can access this information using `.crs` \n",
    "\n",
    "HINT `max_temp_xr[\"crs\"]` should also work!"
   ]
  },
  {
   "cell_type": "code",
   "execution_count": null,
   "metadata": {},
   "outputs": [],
   "source": [
    "# The data are lat/long (not projected)\n",
    "max_temp_xr.crs"
   ]
  },
  {
   "cell_type": "markdown",
   "metadata": {},
   "source": [
    "## Hierarchical Formats Are Self Describing\n",
    "\n",
    "Hierarchical data formats are self-describing. This means that the \n",
    "metadata for the data are contained within the file itself. `xarray` \n",
    "stores metadata in the `.attrs` part of the file structure using a \n",
    "Python dictionary structure. You can view the metadata using `.attrs`."
   ]
  },
  {
   "cell_type": "code",
   "execution_count": null,
   "metadata": {},
   "outputs": [],
   "source": [
    "# View metadata\n",
    "metadata = max_temp_xr.attrs\n",
    "metadata"
   ]
  },
  {
   "cell_type": "code",
   "execution_count": null,
   "metadata": {},
   "outputs": [],
   "source": [
    "# Above you grabbed the metadata (which is a dictionary)\n",
    "# Here you can print any part of the dictionary that you wish to\n",
    "metadata[\"title\"]"
   ]
  },
  {
   "cell_type": "markdown",
   "metadata": {},
   "source": [
    "## Subsetting or \"Slicing\" Your Data\n",
    " \n",
    "You can quickly and efficiently slice and subset your data using \n",
    "`xarray`. Below, you will learn how to slice the data using the `.sel()` method.\n",
    "\n",
    "This will return exactly two data points at the location - the temperature \n",
    "value for each day in your temporal slice."
   ]
  },
  {
   "cell_type": "code",
   "execution_count": null,
   "metadata": {},
   "outputs": [],
   "source": [
    "# Select a lat / lon location that you wish to use to extract the data\n",
    "latitude = 45.02109146118164\n",
    "longitude = 243.01937866210938"
   ]
  },
  {
   "cell_type": "markdown",
   "metadata": {},
   "source": [
    "Below, you can see the x, y location that for the latitude/longitude\n",
    "location that you will use to slice the data above plotted on a map. \n",
    "The code below is an example of creating a spatial plot using\n",
    "the `cartopy` package that shows the locatio nthat you selected. **This step is optional.**"
   ]
  },
  {
   "cell_type": "code",
   "execution_count": null,
   "metadata": {
    "capotion": "Plot showing the selected latitude and longitude location on a basemap created using the Python Cartopy package."
   },
   "outputs": [],
   "source": [
    "extent = [-120, -70, 24, 50.5]\n",
    "central_lon = np.mean(extent[:2])\n",
    "central_lat = np.mean(extent[2:])\n",
    "\n",
    "f, ax = plt.subplots(figsize=(12, 6),\n",
    "                     subplot_kw={'projection': ccrs.AlbersEqualArea(central_lon, central_lat)})\n",
    "ax.coastlines()\n",
    "# Plotting the star in the CRS of the map from the coords we have\n",
    "ax.annotate('\\u2605', xy=(longitude-360, latitude),\n",
    "            xycoords=ccrs.PlateCarree()._as_mpl_transform(ax), color='purple', fontsize=20)\n",
    "ax.set_extent(extent)\n",
    "ax.set(title=\"Location of the lat / lon Being Used To to Slice Your netcdf Climate Data File\")\n",
    "\n",
    "# Adds a bunch of elements to the map\n",
    "ax.add_feature(cfeature.LAND, edgecolor='black')\n",
    "\n",
    "ax.gridlines()\n",
    "plt.show()"
   ]
  },
  {
   "cell_type": "markdown",
   "metadata": {},
   "source": [
    "Now it is time to subset the data for the point location that \n",
    "you are interested in (the lat / lon value that you plotted above). \n",
    "You can slice the data for one single latitude, longitude location using\n",
    "the `.sel()` method.\n",
    "\n",
    "When you slice the data using one single point, your output for every \n",
    "(monthly in this case) time step in the data will be a single pixel \n",
    "value representing max temperature. "
   ]
  },
  {
   "cell_type": "code",
   "execution_count": null,
   "metadata": {},
   "outputs": [],
   "source": [
    "# Slice the data spatially using a single lat/lon point\n",
    "one_point = max_temp_xr[\"air_temperature\"].sel(lat=latitude,\n",
    "                                               lon=longitude)\n",
    "one_point"
   ]
  },
  {
   "cell_type": "markdown",
   "metadata": {},
   "source": [
    "When you slice the data by a single point, notice that output data\n",
    "only has a single array of values. In this case these values represent\n",
    "air temperature (in K) over time. "
   ]
  },
  {
   "cell_type": "code",
   "execution_count": null,
   "metadata": {},
   "outputs": [],
   "source": [
    "# Notice the shape of the output array\n",
    "one_point.shape"
   ]
  },
  {
   "cell_type": "markdown",
   "metadata": {},
   "source": [
    "The data stored in the xarray object is a numpy array. You can process\n",
    "the data in the same way you would process any other numpy array.  "
   ]
  },
  {
   "cell_type": "code",
   "execution_count": null,
   "metadata": {},
   "outputs": [],
   "source": [
    "# View the first 5 values for that single point\n",
    "one_point.values[:5]"
   ]
  },
  {
   "cell_type": "markdown",
   "metadata": {},
   "source": [
    "### Plot A Time Series For a Single Location \n",
    "\n",
    "Above you used a single point location to slice your data. Because\n",
    "the data are for only one location, but over time, you can quickly \n",
    "create a scatterplot of the data using `objectname.plot()`.\n"
   ]
  },
  {
   "cell_type": "code",
   "execution_count": null,
   "metadata": {
    "caption": "Standard plot output from xarray .plot() with no plot elements customized. You can make this plot look much nicer by customizing the line and point markers and colors."
   },
   "outputs": [],
   "source": [
    "# Use xarray to create a quick time series plot\n",
    "one_point.plot.line()\n",
    "plt.show()"
   ]
  },
  {
   "cell_type": "markdown",
   "metadata": {},
   "source": [
    "You can make the plot a bit prettier if you'd like using the \n",
    "standard Python matplotlib plot parameters. Below you change the marker color \n",
    "to purple and the lines to grey. `figsize` is used to adjust the \n",
    "size of the plot. "
   ]
  },
  {
   "cell_type": "code",
   "execution_count": null,
   "metadata": {
    "caption": "Plot showing historic max temperature climate data plotted using xarray .plot()."
   },
   "outputs": [],
   "source": [
    "# You can clean up your plot as you wish using standard matplotlib approaches\n",
    "f, ax = plt.subplots(figsize=(12, 6))\n",
    "one_point.plot.line(hue='lat',\n",
    "                    marker=\"o\",\n",
    "                    ax=ax,\n",
    "                    color=\"grey\",\n",
    "                    markerfacecolor=\"purple\",\n",
    "                    markeredgecolor=\"purple\")\n",
    "ax.set(title=\"Time Series For a Single Lat / Lon Location\")\n",
    "\n",
    "# Uncomment the line below if you wish to export the figure as a .png file\n",
    "# plt.savefig(\"single_point_timeseries.png\")\n",
    "plt.show()"
   ]
  },
  {
   "cell_type": "markdown",
   "metadata": {},
   "source": [
    "### Convert Climate Time Series Data to a Pandas DataFrame & Export to a .csv File\n",
    "You can convert your data to a `DataFrame` and export to \n",
    "a `.csv` file using `to_dataframe()` and `to_csv()`. "
   ]
  },
  {
   "cell_type": "code",
   "execution_count": null,
   "metadata": {},
   "outputs": [],
   "source": [
    "# Convert to dataframe -- then this can easily be exported to a csv\n",
    "one_point_df = one_point.to_dataframe()\n",
    "# View just the first 5 rows of the data\n",
    "one_point_df.head()"
   ]
  },
  {
   "cell_type": "markdown",
   "metadata": {},
   "source": [
    "Once you have a dataframe object, you can export it\n",
    "directly to a `.csv` file format."
   ]
  },
  {
   "cell_type": "code",
   "execution_count": null,
   "metadata": {},
   "outputs": [],
   "source": [
    "# Export data to .csv file\n",
    "one_point_df.to_csv(\"one-location.csv\")"
   ]
  },
  {
   "cell_type": "markdown",
   "metadata": {},
   "source": [
    "## Slice Climate MACAv2 Data By Time and Location\n",
    "\n",
    "Above you sliced the data by spatial location, selecting only one point\n",
    "location at a specific latitude and longitude. You can also slice the data by time. \n",
    "Below, you slice the data at the selected lat / long location and for a 5-year time period\n",
    "in the year 2000.\n",
    "\n",
    "Notice that the output shape is 60. 60 represents 12 months a year over 5 years\n",
    "for the selected lat / lon location. Again because you are slicing out data \n",
    "for a single point location, you have a total of 60 data points in the output\n",
    "numpy array."
   ]
  },
  {
   "cell_type": "code",
   "execution_count": null,
   "metadata": {},
   "outputs": [],
   "source": [
    "start_date = \"2000-01-01\"\n",
    "end_date = \"2005-01-01\"\n",
    "temp_2000_2005 = max_temp_xr[\"air_temperature\"].sel(time=slice(start_date, end_date),\n",
    "                                                    lat=45.02109146118164,\n",
    "                                                    lon=243.01937866210938)\n",
    "temp_2000_2005"
   ]
  },
  {
   "cell_type": "code",
   "execution_count": null,
   "metadata": {},
   "outputs": [],
   "source": [
    "temp_2000_2005.shape"
   ]
  },
  {
   "cell_type": "code",
   "execution_count": null,
   "metadata": {},
   "outputs": [],
   "source": [
    "# View the 60 data points (raster cell values) associated with the spatial and temporal subset\n",
    "temp_2000_2005.values"
   ]
  },
  {
   "cell_type": "markdown",
   "metadata": {},
   "source": [
    "Notice that in this instance you have much less data for that specific point\n",
    "(5 years worth of data to be exact)."
   ]
  },
  {
   "cell_type": "code",
   "execution_count": null,
   "metadata": {
    "caption": "Plot showing 5 years of monthly max temperature data. Here the data are cleaned up a bit with marker colors and lines adjusted."
   },
   "outputs": [],
   "source": [
    "# Plot the data just like you did above\n",
    "f, ax = plt.subplots(figsize=(12, 6))\n",
    "temp_2000_2005.plot.line(hue='lat',\n",
    "                         marker=\"o\",\n",
    "                         ax=ax,\n",
    "                         color=\"grey\",\n",
    "                         markerfacecolor=\"purple\",\n",
    "                         markeredgecolor=\"purple\")\n",
    "ax.set(title=\"A 5 Year Time Series of Temperature Data For A Single Location\")\n",
    "plt.show()"
   ]
  },
  {
   "cell_type": "markdown",
   "metadata": {},
   "source": [
    "## Convert Subsetted to a DataFrame & Export to a .csv File\n",
    "\n",
    "Similar to what you did above, you can also convert your data to a DataFrame. Once your data are in a \n",
    "DataFrame format, you can quickly export a `.csv` file."
   ]
  },
  {
   "cell_type": "code",
   "execution_count": null,
   "metadata": {},
   "outputs": [],
   "source": [
    "# Convert to dataframe -- then this can be exported to a csv if you want that\n",
    "temp_2000_2005_df = temp_2000_2005.to_dataframe()\n",
    "# View just the first 5 rows of the data\n",
    "temp_2000_2005_df.head()"
   ]
  },
  {
   "cell_type": "code",
   "execution_count": null,
   "metadata": {},
   "outputs": [],
   "source": [
    "# Create filename from subset info\n",
    "file_name = \"monthly-temp-\" + start_date + \"-\" + end_date + \".csv\"\n",
    "file_name"
   ]
  },
  {
   "cell_type": "code",
   "execution_count": null,
   "metadata": {},
   "outputs": [],
   "source": [
    "# Export to a csv file to share with your friends!\n",
    "temp_2000_2005_df.to_csv(file_name)"
   ]
  },
  {
   "cell_type": "markdown",
   "metadata": {},
   "source": [
    "## Slice The Data Across a Spatial Extent For A Specific Time Period\n",
    "\n",
    "In the above example you sliced out a subset of the data for a specific\n",
    "point location over time. Below you select \n",
    "data for the entire CONUS (Continental United States) study area and analyze it \n",
    "as a spatial raster object.\n",
    "\n",
    "Once again you use `.sel()` combined with `slice()` subset the data. \n",
    "\n",
    "Notice below that if you don't specify the lat and lon extent, \n",
    "it will by default return all of the pixels available in the data for the \n",
    "specified time period.\n",
    "\n",
    "Notice that you are plotting the entire spatial extent of the data which is \n",
    "in this case called CONUS (**CON**tinental **U**nited **S**tates)"
   ]
  },
  {
   "cell_type": "code",
   "execution_count": null,
   "metadata": {},
   "outputs": [],
   "source": [
    "start_date = \"1950-01-15\"\n",
    "end_date = \"1950-02-15\"\n",
    "\n",
    "two_months_conus = max_temp_xr[\"air_temperature\"].sel(\n",
    "    time=slice(start_date, end_date))\n",
    "# Notice that time has a value of **2** below representing two time steps or months worth of data\n",
    "two_months_conus"
   ]
  },
  {
   "cell_type": "code",
   "execution_count": null,
   "metadata": {},
   "outputs": [],
   "source": [
    "two_months_conus.shape"
   ]
  },
  {
   "cell_type": "markdown",
   "metadata": {},
   "source": [
    "The default return when you plot an xarray object with multipple years worth of \n",
    "data across a spatial extent is a histogram."
   ]
  },
  {
   "cell_type": "code",
   "execution_count": null,
   "metadata": {},
   "outputs": [],
   "source": [
    "two_months_conus.shape"
   ]
  },
  {
   "cell_type": "markdown",
   "metadata": {},
   "source": [
    "When you call `.plot()` on the data, the default plot is a \n",
    "histogram representing the range of raster pixel values in your data \n",
    "for all time periods (2 months in this case). "
   ]
  },
  {
   "cell_type": "code",
   "execution_count": null,
   "metadata": {
    "caption": "The default output of .plot() when you have more than a single point location selected will be a histogram. Here the histogram represents the spread of raster data values in the 2 months of modeled historical data."
   },
   "outputs": [],
   "source": [
    "# Directly plot just a single day using time in \"years\"\n",
    "two_months_conus.plot()\n",
    "plt.show()"
   ]
  },
  {
   "cell_type": "markdown",
   "metadata": {},
   "source": [
    "## Spatial Raster Plots of MACA v2 Climate Data\n",
    "If you want to plot the data spatially as a raster, you can use \n",
    "`.plot()` but specify the lon and lat values as the x and y dimensions \n",
    "to plot. You can add the following parameters to your `.plot()` call to \n",
    "make sure each time step in your data plots spatially:\n",
    "\n",
    "`col_wrap=2`: adjust how how many columns the each subplot is spread across\n",
    "`col=`: what dimension is being plotted in each subplot.\n",
    "\n",
    "In this case, you want a single raster for each month (time step) in the \n",
    "data so you specify `col='time'`. `col_wrap=1` forces the plots to \n",
    "stack on top of each other in your `matplotlib` figure. "
   ]
  },
  {
   "cell_type": "code",
   "execution_count": null,
   "metadata": {
    "caption": "Plot showing two months of the historic max temperature climate data plotted using xarray .plot(). If you set col_wrap to 1, then you end up with one column and two rows of subplots."
   },
   "outputs": [],
   "source": [
    "# Quickly plot the data using xarray.plot()\n",
    "two_months_conus.plot(x=\"lon\",\n",
    "                      y=\"lat\",\n",
    "                      col=\"time\",\n",
    "                      col_wrap=1)\n",
    "plt.suptitle(\"Two Time Steps of Monthly Average Temp\", y=1.03)\n",
    "plt.show()"
   ]
  },
  {
   "cell_type": "markdown",
   "metadata": {},
   "source": [
    "If you set `col_wrap` to `2` you end up with two columns and\n",
    "one subplot in each column. "
   ]
  },
  {
   "cell_type": "code",
   "execution_count": null,
   "metadata": {
    "caption": "Plot showing two months of the historic max temperature climate data plotted using xarray .plot(). If you set col_wrap to 2, then you end up with two columns."
   },
   "outputs": [],
   "source": [
    "# Plot the data using 2 columns\n",
    "two_months_conus.plot(x=\"lon\",\n",
    "                      y=\"lat\",\n",
    "                      col=\"time\",\n",
    "                      col_wrap=2)\n",
    "plt.show()"
   ]
  },
  {
   "cell_type": "code",
   "execution_count": null,
   "metadata": {
    "tags": [
     "hide"
    ]
   },
   "outputs": [],
   "source": [
    "# https://scitools.org.uk/cartopy/docs/latest/crs/projections.html"
   ]
  },
  {
   "cell_type": "markdown",
   "metadata": {},
   "source": [
    "## Plot Multiple MACA v2 Climate Data Raster Files With a Spatial Projection\n",
    "\n",
    "Below you plot the same data using `cartopy` which support spatial \n",
    "projectsion. The `coastlines()` basemap is also added to the plot. "
   ]
  },
  {
   "cell_type": "code",
   "execution_count": null,
   "metadata": {
    "caption": "Map showing air temperature data on a map using the PlateCarree CRS for two months."
   },
   "outputs": [],
   "source": [
    "central_lat = 37.5\n",
    "central_long = 96\n",
    "extent = [-120, -70, 20, 55.5]  # CONUS\n",
    "\n",
    "map_proj = ccrs.AlbersEqualArea(central_longitude=central_lon,\n",
    "                                central_latitude=central_lat)\n",
    "\n",
    "aspect = two_months_conus.shape[2] / two_months_conus.shape[1]\n",
    "p = two_months_conus.plot(transform=ccrs.PlateCarree(),  # the data's projection\n",
    "                          col='time', col_wrap=1,\n",
    "                          aspect=aspect,\n",
    "                          figsize=(10, 10),\n",
    "                          subplot_kws={'projection': map_proj})  # the plot's projection\n",
    "\n",
    "plt.suptitle(\"Two Time Steps of CONUS Historic Temperature Data\", y=1)\n",
    "# Add the coastlines to each axis object and set extent\n",
    "for ax in p.axes.flat:\n",
    "    ax.coastlines()\n",
    "    ax.set_extent(extent)"
   ]
  },
  {
   "cell_type": "markdown",
   "metadata": {},
   "source": [
    "## Export Raster to Geotiff File \n",
    "\n",
    "In the above workflows you converted your data into a DataFrame and exported\n",
    "it to a .csv file. This approach works well if you only need the summary values\n",
    "and don't need any spatial information. However sometimes you may need to \n",
    "export spatial raster files.\n",
    "\n",
    "You can export your data to a geotiff file format using rioxarray. \n",
    "To do this you will need to:\n",
    "\n",
    "1. ensure that your xarray object has a crs defined and define it if it's missing.\n",
    "2. call xarray to export your data\n",
    "\n",
    "Notice below that your two month subset no long contains CRS information.\n"
   ]
  },
  {
   "cell_type": "code",
   "execution_count": null,
   "metadata": {},
   "outputs": [],
   "source": [
    "# The data no longer have a crs -\n",
    "two_months_conus.rio.crs"
   ]
  },
  {
   "cell_type": "markdown",
   "metadata": {},
   "source": [
    "At the very beginning of this lesson, you saved the crs information \n",
    "from the original xarray object. You can use that to export your geotiff data\n",
    "below."
   ]
  },
  {
   "cell_type": "code",
   "execution_count": null,
   "metadata": {},
   "outputs": [],
   "source": [
    "# Set the crs of your subsetted xarray object\n",
    "two_months_conus.rio.set_crs(climate_crs)\n",
    "two_months_conus.rio.crs"
   ]
  },
  {
   "cell_type": "markdown",
   "metadata": {},
   "source": [
    "Once the crs is set, you can export to a geotiff file format."
   ]
  },
  {
   "cell_type": "code",
   "execution_count": null,
   "metadata": {},
   "outputs": [],
   "source": [
    "# Export to geotiff\n",
    "two_months_conus.rio.to_raster('test.tif')"
   ]
  },
  {
   "cell_type": "markdown",
   "metadata": {},
   "source": [
    "Now test our your data. Reimport it using `xarray.open_rasterio`."
   ]
  },
  {
   "cell_type": "code",
   "execution_count": null,
   "metadata": {},
   "outputs": [],
   "source": [
    "# Open the data up as a geotiff\n",
    "two_months_tiff = xr.open_rasterio('test.tif')\n",
    "two_months_tiff"
   ]
  },
  {
   "cell_type": "markdown",
   "metadata": {},
   "source": [
    "Plot the data. Do you notice anything about the values \n",
    "in the histogram below?"
   ]
  },
  {
   "cell_type": "code",
   "execution_count": null,
   "metadata": {
    "caption": "Histogram showing temperature values for the Continental United States. What do you notice about the range of values?"
   },
   "outputs": [],
   "source": [
    "two_months_tiff.plot()\n",
    "plt.show()"
   ]
  },
  {
   "cell_type": "code",
   "execution_count": null,
   "metadata": {
    "caption": "Plot showing unmasked temperature data (containing nodata values) for the Continental United States."
   },
   "outputs": [],
   "source": [
    "# Plot the data - this doesn't look right!\n",
    "two_months_tiff.plot(col=\"band\")\n",
    "plt.show()"
   ]
  },
  {
   "cell_type": "markdown",
   "metadata": {},
   "source": [
    "The data above are plotting oddly because there are no data \n",
    "values in your array. You can mask those values using `xarray.where()`."
   ]
  },
  {
   "cell_type": "code",
   "execution_count": null,
   "metadata": {},
   "outputs": [],
   "source": [
    "two_months_tiff.rio.nodata"
   ]
  },
  {
   "cell_type": "markdown",
   "metadata": {},
   "source": [
    "Below you use `.where()` to mask all values in your data that are \n",
    "equal to `-9999`, the nodata value for this data."
   ]
  },
  {
   "cell_type": "code",
   "execution_count": null,
   "metadata": {
    "caption": "Plot showing masked temperature data for the Continental United States."
   },
   "outputs": [],
   "source": [
    "# Remove no data values and try to plot again\n",
    "two_months_tiff = xr.open_rasterio('test.tif')\n",
    "two_months_clean = two_months_tiff.where(\n",
    "    two_months_tiff != two_months_tiff.rio.nodata)\n",
    "\n",
    "two_months_clean.plot(col=\"band\")\n",
    "plt.show()"
   ]
  },
  {
   "cell_type": "markdown",
   "metadata": {},
   "source": [
    "Above you learned how to begin to work with NETCDF4 format files containing \n",
    "climate focused data. You learned how to open and subset the data by time and location.\n",
    "In the next lesson you will learn how to implement more complex spatial subsets of your data."
   ]
  }
 ],
 "metadata": {
  "celltoolbar": "Edit Metadata",
  "kernelspec": {
   "display_name": "Python 3",
   "language": "python",
   "name": "python3"
  },
  "language_info": {
   "codemirror_mode": {
    "name": "ipython",
    "version": 3
   },
   "file_extension": ".py",
   "mimetype": "text/x-python",
   "name": "python",
   "nbconvert_exporter": "python",
   "pygments_lexer": "ipython3",
   "version": "3.7.8"
  },
  "toc": {
   "base_numbering": 1,
   "nav_menu": {},
   "number_sections": true,
   "sideBar": true,
   "skip_h1_title": false,
   "title_cell": "Table of Contents",
   "title_sidebar": "Contents",
   "toc_cell": false,
   "toc_position": {
    "height": "calc(100% - 180px)",
    "left": "10px",
    "top": "150px",
    "width": "285.8px"
   },
   "toc_section_display": true,
   "toc_window_display": true
  }
 },
 "nbformat": 4,
 "nbformat_minor": 4
}
